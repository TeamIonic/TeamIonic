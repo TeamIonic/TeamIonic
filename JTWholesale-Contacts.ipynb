{
 "cells": [
  {
   "cell_type": "code",
   "execution_count": 1,
   "metadata": {},
   "outputs": [],
   "source": [
    "# import library\n",
    "import pandas as pd\n",
    "import numpy as np"
   ]
  },
  {
   "cell_type": "code",
   "execution_count": 9,
   "metadata": {
    "scrolled": true
   },
   "outputs": [
    {
     "data": {
      "text/plain": [
       "CUSTOMER_ID                 object\n",
       "CUSTOMER_NAME               object\n",
       "CUSTOMER_ADDRESS            object\n",
       "CUSTOMER_CITY               object\n",
       "CUSTOMER_STATE              object\n",
       "CUSTOMER_ZIP                object\n",
       "CUSTOMER_PHONE              object\n",
       "LAST_PURCHASE_AMT           object\n",
       "LAST_PURCHASE_DT            object\n",
       "TOTALL_PURCHASE_AMT         object\n",
       "CREATED_DATE                object\n",
       "MODIFIED_DATE               object\n",
       "CREATED_BY                  object\n",
       "MODIFIED_BY                 object\n",
       "CUSTOMER_TYPE               object\n",
       "CUSTOMER_OWN_ID            float64\n",
       "CUSTOMER_FAX                object\n",
       "CUSTOMER_POC                object\n",
       "CUSTOMER_EMAIL              object\n",
       "CREDIT_BALANCE              object\n",
       "EXPENSES_AMT               float64\n",
       "BILL_TO_NAME               float64\n",
       "BILL_TO_ADDRESS1           float64\n",
       "BILL_TO_ADDRESS2           float64\n",
       "BILL_TO_CITY               float64\n",
       "BILL_TO_STATE              float64\n",
       "BILL_TO_ZIP                float64\n",
       "BILL_TO_PHONE1             float64\n",
       "BILL_TO_FAX                float64\n",
       "SEND_TO_BILL_TO_ADDRESS       bool\n",
       "TEMP_NOTE                  float64\n",
       "dtype: object"
      ]
     },
     "execution_count": 9,
     "metadata": {},
     "output_type": "execute_result"
    }
   ],
   "source": [
    "data = pd.read_csv(\"T100_CUSTOMER.csv\")\n",
    "#check the data types\n",
    "data.dtypes"
   ]
  },
  {
   "cell_type": "code",
   "execution_count": 10,
   "metadata": {},
   "outputs": [],
   "source": [
    "data[\"CUSTOMER_ADDRESS\"].fillna(\"None\",inplace = True)\n",
    "data[\"CUSTOMER_CITY\"].fillna(\"None\",inplace = True)\n",
    "data[\"CUSTOMER_STATE\"].fillna(\"None\",inplace = True)\n",
    "data[\"CUSTOMER_ZIP\"].fillna(\"None\",inplace = True)\n",
    "data[\"CUSTOMER_PHONE\"].fillna(\"None\",inplace = True)\n",
    "data[\"CUSTOMER_FAX\"].fillna(\"None\",inplace = True)\n"
   ]
  },
  {
   "cell_type": "code",
   "execution_count": 11,
   "metadata": {},
   "outputs": [
    {
     "data": {
      "text/plain": [
       "<bound method DataFrame.info of              CUSTOMER_NAME                    CUSTOMER_ADDRESS  \\\n",
       "0                Big Apple            2916 Jefferson davis Hwy   \n",
       "1       Han Ah Reum Market                                None   \n",
       "2         Minari Farm, LLc                   10660 Grande Blvd   \n",
       "3       Shilla Bakery (공장)                                None   \n",
       "4     D.Y. Import  CO, INC  7194 Oarland Mills RD  Suite # 6&7   \n",
       "..                     ...                                 ...   \n",
       "301     Arizona Import INC       4216 Evergreen Lane Suite 121   \n",
       "302                  DANNY                     534 DEFENSE HWY   \n",
       "303   Global Food Manassas                 10320 Festival Lane   \n",
       "304  Christopher Ranch LLC               305 Bloomfield Avenue   \n",
       "305    United Central Bank          7140 Little River Turnpike   \n",
       "\n",
       "       CUSTOMER_CITY CUSTOMER_STATE CUSTOMER_ZIP CUSTOMER_PHONE  CUSTOMER_FAX  \n",
       "0           Richmond             VA        23234   202-907-0000          None  \n",
       "1               None             GA         None   678-543-0003  678-543-0003  \n",
       "2    West Paim Beach             FL        33412   561-307-0033  561-775-5724  \n",
       "3             Lorton             VA        22079   703-655-9792  703-339-8227  \n",
       "4           Columbia             MD        21046   410-381-0070  410-381-0006  \n",
       "..               ...            ...          ...            ...           ...  \n",
       "301        Annandale             VA        22003   703-655-9953  240-550-5267  \n",
       "302        ANNAPOLIS             MD        21401   443 691 9957          None  \n",
       "303         Manassas             VA        20109   703-369-9977  703-393-0029  \n",
       "304           Gilroy             CF        95020   408-874-1100        408874  \n",
       "305        Annandale             VA        22003   703-354-8822  703-354-2288  \n",
       "\n",
       "[306 rows x 7 columns]>"
      ]
     },
     "execution_count": 11,
     "metadata": {},
     "output_type": "execute_result"
    }
   ],
   "source": [
    "#Seperating the data into dataframe (these are the only columns we need)\n",
    "JTData = data[['CUSTOMER_NAME','CUSTOMER_ADDRESS','CUSTOMER_CITY','CUSTOMER_STATE','CUSTOMER_ZIP','CUSTOMER_PHONE','CUSTOMER_FAX']]\n",
    "JTData.info"
   ]
  },
  {
   "cell_type": "code",
   "execution_count": 12,
   "metadata": {},
   "outputs": [],
   "source": [
    "#Saving the dataframe\n",
    "JTData.to_csv('contacts2.csv')"
   ]
  }
 ],
 "metadata": {
  "kernelspec": {
   "display_name": "Python 3",
   "language": "python",
   "name": "python3"
  },
  "language_info": {
   "codemirror_mode": {
    "name": "ipython",
    "version": 3
   },
   "file_extension": ".py",
   "mimetype": "text/x-python",
   "name": "python",
   "nbconvert_exporter": "python",
   "pygments_lexer": "ipython3",
   "version": "3.8.5"
  }
 },
 "nbformat": 4,
 "nbformat_minor": 4
}
