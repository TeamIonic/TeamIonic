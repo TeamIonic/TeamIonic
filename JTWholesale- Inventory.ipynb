{
 "cells": [
  {
   "cell_type": "code",
   "execution_count": 1,
   "metadata": {},
   "outputs": [],
   "source": [
    "# import library\n",
    "import pandas as pd\n",
    "import numpy as np"
   ]
  },
  {
   "cell_type": "code",
   "execution_count": 9,
   "metadata": {
    "scrolled": true
   },
   "outputs": [
    {
     "data": {
      "text/plain": [
       "ITEM_UPC                       int64\n",
       "ITEM_DEPARTMENT              float64\n",
       "ITEM_CATEGORY                 object\n",
       "ITEM_PRICE_QTY                 int64\n",
       "ITEM_PRICE                     int64\n",
       "ITEM_UNIT_COST                 int64\n",
       "ITEM_POS_DESC                 object\n",
       "ITEM_SIZE                    float64\n",
       "ITEM_CASE_COST                 int64\n",
       "ITEM_WH_ITEM_CODE            float64\n",
       "KK_PRICE_LAST                  int64\n",
       "KK_PRICE_NEW                   int64\n",
       "KK_PACK                        int64\n",
       "CREATED_DT                   float64\n",
       "MODIFIED_DT                   object\n",
       "KK_KOREAN                     object\n",
       "CREATED_BY                   float64\n",
       "MODIFIED_BY                   object\n",
       "ITEM_VENDOR                  float64\n",
       "ITEM_PRICE2                  float64\n",
       "ITEM_PRICE3                  float64\n",
       "ITEM_PRICE4                  float64\n",
       "ITEM_DISPLAY_ORDER             int64\n",
       "BOSS_NOTE                    float64\n",
       "RETAIL_VISIBLE                  bool\n",
       "TOTAL_SALES                   object\n",
       "LAST_SALES                    object\n",
       "INVENTORY_QTY                  int64\n",
       "ITEM_PRICE5                  float64\n",
       "ITEM_PRICE6                  float64\n",
       "ITEM_PRICE7                  float64\n",
       "ITEM_BARCODE1                float64\n",
       "ITEM_BARCODE2                float64\n",
       "ITEM_BARCODE3                 object\n",
       "ITEM_BARCODE4                float64\n",
       "ITEM_RETAIL_PRICE              int64\n",
       "ITEM_UNT_QTY_PER_BOX           int64\n",
       "LAST_CHECK_DATE              float64\n",
       "INVENTORY_LAST_PRICE           int64\n",
       "INVENTORY_LAST_PRICE_DATE    float64\n",
       "INVENTORY_NEW_PRICE            int64\n",
       "INVENTORY_NEW_PRICE_DATE     float64\n",
       "BOSS_ITEM_YN                    bool\n",
       "IDENTIFY_ITEM_YN                bool\n",
       "BR_DESC                      float64\n",
       "ITEM_BRAND                   float64\n",
       "BR_SIZE                      float64\n",
       "INV_CHECK                    float64\n",
       "MAIN_UPC                     float64\n",
       "MAIN_UPC_YN                     bool\n",
       "dtype: object"
      ]
     },
     "execution_count": 9,
     "metadata": {},
     "output_type": "execute_result"
    }
   ],
   "source": [
    "data = pd.read_csv(\"T200_INVENTORY_SAMPLE.csv\")\n",
    "#check the data types\n",
    "data.dtypes"
   ]
  },
  {
   "cell_type": "code",
   "execution_count": 13,
   "metadata": {},
   "outputs": [],
   "source": [
    "data[\"ITEM_POS_DESC\"].fillna(\"None\",inplace = True)\n",
    "data[\"ITEM_CATEGORY\"].fillna(\"None\",inplace = True)\n"
   ]
  },
  {
   "cell_type": "code",
   "execution_count": 14,
   "metadata": {},
   "outputs": [
    {
     "data": {
      "text/plain": [
       "<bound method DataFrame.info of    ITEM_CATEGORY  ITEM_PRICE  \\\n",
       "0     Vegetables          27   \n",
       "1     Vegetables          25   \n",
       "2     Vegetables          25   \n",
       "3     Vegetables          25   \n",
       "4     Vegetables          45   \n",
       "5     Vegetables          37   \n",
       "6     Vegetables          16   \n",
       "7     Vegetables          24   \n",
       "8     Vegetables          29   \n",
       "9     Vegetables          25   \n",
       "10    Vegetables          63   \n",
       "11    Vegetables          16   \n",
       "12    Vegetables          23   \n",
       "13    Vegetables          30   \n",
       "14    Vegetables          23   \n",
       "15    Vegetables          23   \n",
       "16    Vegetables          23   \n",
       "17    Vegetables          11   \n",
       "18    Vegetables          28   \n",
       "19    Vegetables          20   \n",
       "20    Vegetables          20   \n",
       "21    Vegetables          41   \n",
       "22    Vegetables          23   \n",
       "23    Vegetables          60   \n",
       "24    Vegetables          33   \n",
       "25    Vegetables          29   \n",
       "26    Vegetables          28   \n",
       "27    Vegetables          28   \n",
       "28    Vegetables          24   \n",
       "29    Vegetables          65   \n",
       "30         Fruit          29   \n",
       "31         Fruit          25   \n",
       "32         Fruit          26   \n",
       "33         Fruit          32   \n",
       "34        Frozen          68   \n",
       "35         Fruit          22   \n",
       "36         Fruit          12   \n",
       "37         Fruit          37   \n",
       "38         Fruit         130   \n",
       "\n",
       "                                        ITEM_POS_DESC  ITEM_PRICE2  \n",
       "0   Napa                                  배추  orig...        25.00  \n",
       "1   Young Radish                    총각무우 50CT  ori...        25.00  \n",
       "2   Baby Radish                      열무  50CT   or...        25.00  \n",
       "3   Young Napa                      풋 배추 50CT  ori...        25.00  \n",
       "4   Chive                                부추 origin...        37.00  \n",
       "5     Pickle Cucumber                피클오이  origin USA        32.00  \n",
       "6        Green Onion                     파 origin USA        14.95  \n",
       "7   Spinach Bunch                  시금치 24CT origin...        20.00  \n",
       "8           Long Hot Green Pepper    롱핫 그린 origin USA        29.00  \n",
       "9      Korean Pepper                  조선고추 origin USA        15.00  \n",
       "10   Twist Pepper                     꽈리고추 origin USA        50.00  \n",
       "11        Yellow Squash                   노란 호박  20Lb        16.00  \n",
       "12               Korean Squash                  한국 호박        20.00  \n",
       "13     Crown daisy                      쑥갓 origin USA        28.00  \n",
       "14  Carrots                              당근  50# o...        19.00  \n",
       "15      Red Leaf Lettuce              레드상추 origin USA        13.50  \n",
       "16        Green Leaf Lettuce          그린상추 origin USA        13.50  \n",
       "17     Cilantro                             칠란트로 30EA        11.00  \n",
       "18  Broccoli                             브라콜리 orig...        14.55  \n",
       "19        Green Cabbage                양배추 origin USA        15.75  \n",
       "20    Baby Bok Choy                 베이비박초이 origin USA        15.00  \n",
       "21  Yuchoy                             유초이 origin USA        42.00  \n",
       "22         Kabocha Squash              가보차 origin USA        39.00  \n",
       "23                  Sesame Leaf                    깻잎        50.00  \n",
       "24              Garlic Whole                     통 마늘        27.00  \n",
       "25  Peeled Garlic (Jar)           깐 마늘 5Lb/4 origi...        48.00  \n",
       "26            Ginger Root                     생강 30Lb        17.00  \n",
       "27               Sasamestem                    줄기 깻 잎        28.00  \n",
       "28  Potato-Idaho                  감자 70 CT 50Lb or...        19.10  \n",
       "29         Korean Yam                     한국 고구마 40Lb        50.00  \n",
       "30        Lime-Bartlett                            라임        23.00  \n",
       "31      Orange 88Ct                          오렌지 88Ea        16.00  \n",
       "32      Orange 56CT                          오렌지 56Ea        23.00  \n",
       "33       Cherry                                    체리        32.00  \n",
       "34  Frozen Chwinamul                        냉동 취나물...        58.00  \n",
       "35  Peach-Yellow                          노란 복숭아 o...        17.85  \n",
       "36  Peach- White                          흰 복숭아 or...        12.00  \n",
       "37       Lemon                                     레몬        24.00  \n",
       "38  Watermelon  Seedless            씨없는 수박 45CT Bi...       130.00  >"
      ]
     },
     "execution_count": 14,
     "metadata": {},
     "output_type": "execute_result"
    }
   ],
   "source": [
    "JTData = data[[\"ITEM_CATEGORY\",\"ITEM_PRICE\",\"ITEM_POS_DESC\",\"ITEM_PRICE2\"]]\n",
    "JTData.info"
   ]
  },
  {
   "cell_type": "code",
   "execution_count": 15,
   "metadata": {},
   "outputs": [],
   "source": [
    "#Saving the dataframe\n",
    "JTData.to_csv('Inventory-Sample.csv')"
   ]
  },
  {
   "cell_type": "code",
   "execution_count": null,
   "metadata": {},
   "outputs": [],
   "source": []
  }
 ],
 "metadata": {
  "kernelspec": {
   "display_name": "Python 3",
   "language": "python",
   "name": "python3"
  },
  "language_info": {
   "codemirror_mode": {
    "name": "ipython",
    "version": 3
   },
   "file_extension": ".py",
   "mimetype": "text/x-python",
   "name": "python",
   "nbconvert_exporter": "python",
   "pygments_lexer": "ipython3",
   "version": "3.8.5"
  }
 },
 "nbformat": 4,
 "nbformat_minor": 4
}
